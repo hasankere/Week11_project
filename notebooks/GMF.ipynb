{
 "cells": [
  {
   "cell_type": "code",
   "execution_count": 5,
   "metadata": {},
   "outputs": [],
   "source": [
    "import yfinance as yf\n",
    "import pandas as pd\n",
    "import numpy as np\n",
    "import matplotlib.pyplot as plt\n",
    "import seaborn as sns\n",
    "from statsmodels.tsa.seasonal import seasonal_decompose\n"
   ]
  },
  {
   "cell_type": "code",
   "execution_count": 17,
   "metadata": {},
   "outputs": [
    {
     "name": "stderr",
     "output_type": "stream",
     "text": [
      "[*********************100%***********************]  3 of 3 completed"
     ]
    },
    {
     "name": "stdout",
     "output_type": "stream",
     "text": [
      "MultiIndex([( 'Close',  'BND'),\n",
      "            ( 'Close',  'SPY'),\n",
      "            ( 'Close', 'TSLA'),\n",
      "            (  'High',  'BND'),\n",
      "            (  'High',  'SPY'),\n",
      "            (  'High', 'TSLA'),\n",
      "            (   'Low',  'BND'),\n",
      "            (   'Low',  'SPY'),\n",
      "            (   'Low', 'TSLA'),\n",
      "            (  'Open',  'BND'),\n",
      "            (  'Open',  'SPY'),\n",
      "            (  'Open', 'TSLA'),\n",
      "            ('Volume',  'BND'),\n",
      "            ('Volume',  'SPY'),\n",
      "            ('Volume', 'TSLA')],\n",
      "           names=['Price', 'Ticker'])\n"
     ]
    },
    {
     "name": "stderr",
     "output_type": "stream",
     "text": [
      "\n"
     ]
    }
   ],
   "source": [
    "import yfinance as yf\n",
    "\n",
    "# Define the stock tickers\n",
    "tickers = ['TSLA', 'BND', 'SPY']\n",
    "\n",
    "# Download historical data\n",
    "data = yf.download(tickers, start='2015-01-01', end='2025-01-01')\n",
    "\n",
    "# Check the columns to understand the data structure\n",
    "print(data.columns)\n"
   ]
  },
  {
   "cell_type": "code",
   "execution_count": 18,
   "metadata": {},
   "outputs": [
    {
     "name": "stdout",
     "output_type": "stream",
     "text": [
      "Price           Close                              High              \\\n",
      "Ticker            BND         SPY       TSLA        BND         SPY   \n",
      "Date                                                                  \n",
      "2015-01-02  62.573109  172.592911  14.620667  62.603393  173.811145   \n",
      "2015-01-05  62.754841  169.475906  14.006000  62.777553  171.702310   \n",
      "2015-01-06  62.936516  167.879639  14.085333  63.125787  170.316081   \n",
      "2015-01-07  62.974384  169.971603  14.063333  63.050092  170.316070   \n",
      "2015-01-08  62.875984  172.987762  14.041333  62.921407  173.206211   \n",
      "\n",
      "Price                        Low                              Open  \\\n",
      "Ticker           TSLA        BND         SPY       TSLA        BND   \n",
      "Date                                                                 \n",
      "2015-01-02  14.883333  62.398976  171.542718  14.217333  62.406549   \n",
      "2015-01-05  14.433333  62.610993  169.165053  13.810667  62.641277   \n",
      "2015-01-06  14.280000  62.860808  167.073085  13.614000  62.860808   \n",
      "2015-01-07  14.318667  62.875965  168.770189  13.985333  62.944100   \n",
      "2015-01-08  14.253333  62.815416  171.383078  14.000667  62.921407   \n",
      "\n",
      "Price                               Volume                       \n",
      "Ticker             SPY       TSLA      BND        SPY      TSLA  \n",
      "Date                                                             \n",
      "2015-01-02  173.391068  14.858000  2218800  121465900  71466000  \n",
      "2015-01-05  171.534282  14.303333  5820100  169632600  80527500  \n",
      "2015-01-06  169.786780  14.004000  3887600  209151400  93928500  \n",
      "2015-01-07  169.223867  14.223333  2433400  125346700  44526000  \n",
      "2015-01-08  171.399871  14.187333  1873400  147217800  51637500  \n",
      "MultiIndex([( 'Close',  'BND'),\n",
      "            ( 'Close',  'SPY'),\n",
      "            ( 'Close', 'TSLA'),\n",
      "            (  'High',  'BND'),\n",
      "            (  'High',  'SPY'),\n",
      "            (  'High', 'TSLA'),\n",
      "            (   'Low',  'BND'),\n",
      "            (   'Low',  'SPY'),\n",
      "            (   'Low', 'TSLA'),\n",
      "            (  'Open',  'BND'),\n",
      "            (  'Open',  'SPY'),\n",
      "            (  'Open', 'TSLA'),\n",
      "            ('Volume',  'BND'),\n",
      "            ('Volume',  'SPY'),\n",
      "            ('Volume', 'TSLA')],\n",
      "           names=['Price', 'Ticker'])\n"
     ]
    }
   ],
   "source": [
    "\n",
    "print(data.head())\n",
    "print(data.columns)\n"
   ]
  },
  {
   "cell_type": "code",
   "execution_count": null,
   "metadata": {},
   "outputs": [],
   "source": []
  }
 ],
 "metadata": {
  "kernelspec": {
   "display_name": "Python 3",
   "language": "python",
   "name": "python3"
  },
  "language_info": {
   "codemirror_mode": {
    "name": "ipython",
    "version": 3
   },
   "file_extension": ".py",
   "mimetype": "text/x-python",
   "name": "python",
   "nbconvert_exporter": "python",
   "pygments_lexer": "ipython3",
   "version": "3.10.10"
  }
 },
 "nbformat": 4,
 "nbformat_minor": 2
}
